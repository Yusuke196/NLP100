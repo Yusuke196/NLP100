{
 "cells": [
  {
   "cell_type": "markdown",
   "metadata": {},
   "source": [
    "## Syntactic Parsing\n",
    "https://nlp100.github.io/en/ch05.html"
   ]
  },
  {
   "cell_type": "markdown",
   "metadata": {},
   "source": [
    "The zip archive ai.en.zip contains the text of the Wikipedia article, \"Artificial Intelligence\". Apply a dependency parser to the text, and store the result in a file. Implement programs that read the dependency trees and perform the jobs.\n",
    "\n",
    "For your convenience, the zip archive also includes ai.en.txt.json, the text with dependency trees predicted by Stanford CoreNLP and stored in JSON format."
   ]
  },
  {
   "cell_type": "markdown",
   "metadata": {},
   "source": [
    "### 40. Read the parse result (words)\n",
    "Design a class Word that represents a word. This class has three member variables, text (word surface), lemma (lemma), and pos (part-of-speech). Represent a sentence as an array of instances of Word class. Implement a program to load the parse result, and store the text as an array of sentences. Show the object of the first sentence of the body of the article."
   ]
  },
  {
   "cell_type": "markdown",
   "metadata": {},
   "source": [
    "### 41. Read the parse result (dependency)\n",
    "In addition to problem 40, add three member variables head (a reference to the object of its syntactic governor), dep (dependency type to its governor), and children (a list of references to the syntactic dependents in the parse tree) to the class Word. Show the pairs of governors (parents) and their dependents (children) of the first sentence of the body of the article. Use the class Word in the rest of the problems in this chapter."
   ]
  },
  {
   "cell_type": "markdown",
   "metadata": {},
   "source": [
    "### 42. Show root words\n",
    "For each sentence, extract the root word (whose head is ROOT)."
   ]
  },
  {
   "cell_type": "markdown",
   "metadata": {},
   "source": [
    "### 43. Show verb governors and noun dependents\n",
    "Show all pairs of verb governors (parents) and their noun dependents (children) from all sentences in the text."
   ]
  },
  {
   "cell_type": "markdown",
   "metadata": {},
   "source": [
    "### 44. Visualize dependency trees\n",
    "Visualize a dependency tree of a sentence as a directed graph. Consider converting a dependency tree into DOT language and use Graphviz for drawing a directed graph. In addition, you can use pydot for drawing a dependency tree."
   ]
  },
  {
   "cell_type": "markdown",
   "metadata": {},
   "source": [
    "### 45. Triple with subject, verb, and direct object\n",
    "We are interested in extracting facts from the text. In this chapter, we represent a fact as a tuple of (subject, predicate, object). Extract tuples from dependency trees where:\n",
    "\n",
    "- subject is a nominal subject of a verb in the past tense\n",
    "- predicate is the verb in the past tense\n",
    "- object is a direct object of the verb\n",
    "\n",
    "Consider an example sentence, \"Frank Rosenblatt invented the perceptron\". We want to extract a tuple, (Rosenblatt, invented, perceptron), from the sentence. In this problem, we only consider a subject and object as a single word.\n",
    "\n",
    "This graph shows a dependency tree for the sentence (this may vary depending on the parser).\n",
    "\n",
    "![svo](image/svo.png)\n",
    "\n",
    "In order to extract a tuple from a dependency tree, it may be a good idea to design an extraction rule on the dependency tree, for example,\n",
    "$$\n",
    "\\{ {\\rm subject} \\} \\xleftarrow{\\rm nsubj} \\{ {\\rm predicate\\}_{\\tt pos=VBD}} \\xrightarrow{\\rm dobj} \\{ {\\rm object} \\}\n",
    "$$"
   ]
  },
  {
   "cell_type": "markdown",
   "metadata": {},
   "source": [
    "### 46. Expanding subjects and objects\n",
    "Improve the program of Problem 45 to remove the restriction that subjects and objects are single words but can also be phrases. For example, we want to extract (Frank Rosenblatt, invented, perceptron) from the sentence, \"Frank Rosenblatt invented the perceptron\"."
   ]
  },
  {
   "cell_type": "markdown",
   "metadata": {},
   "source": [
    "### 47. Triple from the passive sentence\n",
    "Extract facts from sentences in the passive voice. Consider an example sentence, \"Artificial intelligence was founded as an academic discipline in 1955\". We want to extract two tuples from the sentence,\n",
    "\n",
    "- (Artificial intelligence, founded-as, academic discipline)\n",
    "- (Artificial intelligence, founded-in, 1955)"
   ]
  },
  {
   "cell_type": "markdown",
   "metadata": {},
   "source": [
    "### 48. Extract paths from the root to nouns\n",
    "For every noun in a dependency tree, extract a path from the root to the noun. Here, each path must satisfy the following specifications.\n",
    "\n",
    "- Nodes in a path are words in surface form\n",
    "- Nodes are connected with \" -> \" from the root to the leaf node\n",
    "- We don't have to include dependency types (e.g., nsubj, dobj) when representing a dependency path.\n",
    "\n",
    "For the example sentence, \"Frank Rosenblatt invented the perceptron\", we expect an output,\n",
    "```\n",
    "invented -> Rosenblatt\n",
    "invented -> Rosenblatt -> Frank\n",
    "invented -> perceptron\n",
    "```"
   ]
  },
  {
   "cell_type": "markdown",
   "metadata": {},
   "source": [
    "### 49. Extract the shortest path between two nouns\n",
    "Extract the shortest path for every pair of two nouns. Supposing that two nouns appear at the i-th and j-th positions (in words) in a sentence (i<j), the shortest path must satisfy the following specifications.\n",
    "\n",
    "Nodes in a path are words in surface form\n",
    "Nodes corresponding to the i-th and j-th words are replaced with X and Y, respectively.\n",
    "Nodes are connected with either \" -> \" or \" <- \" from X to Y to represent a direction of a dependency.\n",
    "We can consider two types of dependency paths.\n",
    "\n",
    "When the j-th word appears on the path from the i-th word to the root: the path from the i-th word to the j-th word\n",
    "When the i-th and j-th words have the common ancestor (the k-th word) in the dependency tree: the path from the i-th word to the k-th word connected with \" <- \", followed by the path from the k-th word to the j-th word connected with \" -> \".\n",
    "For the example sentence, \"Frank Rosenblatt invented the perceptron\", we expect an output,\n",
    "```\n",
    "X <- Y\n",
    "X <- invented -> Y\n",
    "X <- Rosenblatt <- invented -> Y\n",
    "```"
   ]
  }
 ],
 "metadata": {
  "interpreter": {
   "hash": "4b5a62237fb8bf44ce76b7bea857accef64a4a45826fbb380be3b36ae9de4883"
  },
  "kernelspec": {
   "display_name": "Python 3 (ipykernel)",
   "language": "python",
   "name": "python3"
  },
  "language_info": {
   "codemirror_mode": {
    "name": "ipython",
    "version": 3
   },
   "file_extension": ".py",
   "mimetype": "text/x-python",
   "name": "python",
   "nbconvert_exporter": "python",
   "pygments_lexer": "ipython3",
   "version": "3.9.9"
  }
 },
 "nbformat": 4,
 "nbformat_minor": 4
}
