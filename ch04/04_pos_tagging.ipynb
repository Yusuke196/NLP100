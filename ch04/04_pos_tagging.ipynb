{
 "cells": [
  {
   "cell_type": "markdown",
   "metadata": {},
   "source": [
    "## Chapter 4: POS tagging\n",
    "https://nlp100.github.io/en/ch04.html"
   ]
  },
  {
   "cell_type": "markdown",
   "metadata": {},
   "source": [
    "### 30. Reading the result\n",
    "Implement a program that reads the result of part-of-speech tagging. Here, represent a sentence as a list of mapping objects, each of which associates a surface form, lemma (base form), part-of-speech tag with the keys text, lemma, pos. Use this representation in the rest of the problems."
   ]
  },
  {
   "cell_type": "code",
   "execution_count": 23,
   "metadata": {},
   "outputs": [
    {
     "data": {
      "text/plain": [
       "[[{'text': 'ALICE', 'lemma': 'ALICE', 'pos': 'NNP'},\n",
       "  {'text': \"'S\", 'lemma': \"'s\", 'pos': 'POS'},\n",
       "  {'text': 'ADVENTURES', 'lemma': 'ADVENTURES', 'pos': 'NNP'},\n",
       "  {'text': 'IN', 'lemma': 'in', 'pos': 'IN'},\n",
       "  {'text': 'WONDERLAND', 'lemma': 'WONDERLAND', 'pos': 'NNP'}],\n",
       " [{'text': 'Lewis', 'lemma': 'Lewis', 'pos': 'NNP'},\n",
       "  {'text': 'Carroll', 'lemma': 'Carroll', 'pos': 'NNP'}],\n",
       " [{'text': 'THE', 'lemma': 'the', 'pos': 'DT'},\n",
       "  {'text': 'MILLENNIUM', 'lemma': 'MILLENNIUM', 'pos': 'NNP'},\n",
       "  {'text': 'FULCRUM', 'lemma': 'FULCRUM', 'pos': 'NNP'},\n",
       "  {'text': 'EDITION', 'lemma': 'EDITION', 'pos': 'NNP'},\n",
       "  {'text': '3.0', 'lemma': '3.0', 'pos': 'CD'}]]"
      ]
     },
     "execution_count": 23,
     "metadata": {},
     "output_type": "execute_result"
    }
   ],
   "source": [
    "import itertools\n",
    "\n",
    "def read_text(flat=False):\n",
    "    with open('alice/alice.txt.conll') as file:\n",
    "        res = []\n",
    "        sent = []\n",
    "\n",
    "        for line in file:\n",
    "            if line != '\\n':\n",
    "                lst = line.split('\\t')\n",
    "                sent.append({\n",
    "                    'text': lst[1],\n",
    "                    'lemma': lst[2],\n",
    "                    'pos': lst[3],\n",
    "                })\n",
    "            else:\n",
    "                res.append(sent)\n",
    "                sent = []\n",
    "        if flat:\n",
    "            return list(itertools.chain.from_iterable(res))\n",
    "        else:\n",
    "            return res\n",
    "\n",
    "read_text()[:3]"
   ]
  },
  {
   "cell_type": "code",
   "execution_count": 65,
   "metadata": {},
   "outputs": [
    {
     "name": "stdout",
     "output_type": "stream",
     "text": [
      "[\n",
      "  [\n",
      "    {\n",
      "      \"id\": 1,\n",
      "      \"text\": \"ALICE\",\n",
      "      \"lemma\": \"ALICE\",\n",
      "      \"upos\": \"PROPN\",\n",
      "      \"xpos\": \"NNP\",\n",
      "      \"feats\": \"Number=Sing\",\n",
      "      \"head\": 3,\n",
      "      \"deprel\": \"nmod:poss\",\n",
      "      \"start_char\": 0,\n",
      "      \"end_char\": 5,\n",
      "      \"ner\": \"O\"\n",
      "    },\n",
      "    {\n",
      "      \"id\": 2,\n",
      "      \"text\": \"'S\",\n",
      "      \"lemma\": \"'s\",\n",
      "      \"upos\": \"PART\",\n",
      "      \"xpos\": \"POS\",\n",
      "      \"head\": 1,\n",
      "      \"deprel\": \"case\",\n",
      "      \"start_char\": 5,\n",
      "      \"end_char\": 7,\n",
      "      \"ner\": \"O\"\n",
      "    },\n",
      "    {\n",
      "      \"id\": 3,\n",
      "      \"text\": \"ADVENTURES\",\n",
      "      \"lemma\": \"ADVENTURES\",\n",
      "      \"upos\": \"PROPN\",\n",
      "      \"xpos\": \"NNPS\",\n",
      "      \"feats\": \"Number=Plur\",\n",
      "      \"head\": 0,\n",
      "      \"deprel\": \"root\",\n",
      "      \"start_char\": 8,\n",
      "      \"end_char\": 18,\n",
      "      \"ner\": \"O\"\n",
      "    },\n",
      "    {\n",
      "      \"id\": 4,\n",
      "      \"text\": \"IN\",\n",
      "      \"lemma\": \"in\",\n",
      "      \"upos\": \"ADP\",\n",
      "      \"xpos\": \"IN\",\n",
      "      \"head\": 5,\n",
      "      \"deprel\": \"case\",\n",
      "      \"start_char\": 19,\n",
      "      \"end_char\": 21,\n",
      "      \"ner\": \"O\"\n",
      "    },\n",
      "    {\n",
      "      \"id\": 5,\n",
      "      \"text\": \"WONDERLAND\",\n",
      "      \"lemma\": \"WONDERLAND\",\n",
      "      \"upos\": \"PROPN\",\n",
      "      \"xpos\": \"NNP\",\n",
      "      \"feats\": \"Number=Sing\",\n",
      "      \"head\": 3,\n",
      "      \"deprel\": \"nmod\",\n",
      "      \"start_char\": 22,\n",
      "      \"end_char\": 32,\n",
      "      \"ner\": \"O\"\n",
      "    }\n",
      "  ]\n",
      "]\n"
     ]
    }
   ],
   "source": [
    "# POS tagging by Stanza\n",
    "import stanza\n",
    "\n",
    "# nlp = stanza.Pipeline('en')\n",
    "nlp = stanza.Pipeline('en', verbose=False)\n",
    "\n",
    "with open('alice/alice.txt') as file:\n",
    "    for line in file:\n",
    "        if line == '\\n':\n",
    "            continue\n",
    "        doc = nlp(line)\n",
    "        print(doc) # 同様の解析結果が出ている\n",
    "        break"
   ]
  },
  {
   "cell_type": "markdown",
   "metadata": {},
   "source": [
    "### 31. Verbs\n",
    "Extract surface forms of all verbs appearing in the text."
   ]
  },
  {
   "cell_type": "code",
   "execution_count": 16,
   "metadata": {},
   "outputs": [
    {
     "data": {
      "text/plain": [
       "['was',\n",
       " 'beginning',\n",
       " 'get',\n",
       " 'sitting',\n",
       " 'having',\n",
       " 'do',\n",
       " 'had',\n",
       " 'peeped',\n",
       " 'was',\n",
       " 'reading']"
      ]
     },
     "execution_count": 16,
     "metadata": {},
     "output_type": "execute_result"
    }
   ],
   "source": [
    "def extract_vb_surfaces():\n",
    "    verbs = list(filter(lambda token: token['pos'].startswith('VB'), read_text(flat=True)))\n",
    "    verb_surfaces = [verb['text'] for verb in verbs]\n",
    "    return verb_surfaces\n",
    "\n",
    "extract_vb_surfaces()[:10]"
   ]
  },
  {
   "cell_type": "markdown",
   "metadata": {},
   "source": [
    "### 32. Base forms of verbs\n",
    "Extract lemmas of all verbs appearing in the text."
   ]
  },
  {
   "cell_type": "code",
   "execution_count": 18,
   "metadata": {},
   "outputs": [
    {
     "data": {
      "text/plain": [
       "['be', 'begin', 'get', 'sit', 'have', 'do', 'have', 'peep', 'be', 'read']"
      ]
     },
     "execution_count": 18,
     "metadata": {},
     "output_type": "execute_result"
    }
   ],
   "source": [
    "def extract_vb_bases():\n",
    "    verbs = list(filter(lambda token: token['pos'].startswith('VB'), read_text(flat=True)))\n",
    "    verb_bases = [verb['lemma'] for verb in verbs]\n",
    "    return verb_bases\n",
    "\n",
    "extract_vb_bases()[:10]"
   ]
  },
  {
   "cell_type": "markdown",
   "metadata": {},
   "source": [
    "### 33. A of B\n",
    "Extract noun phrases in the form of \"A of B\", where A and B are nouns."
   ]
  },
  {
   "cell_type": "code",
   "execution_count": null,
   "metadata": {},
   "outputs": [],
   "source": []
  },
  {
   "cell_type": "markdown",
   "metadata": {},
   "source": [
    "### 34. A B\n",
    "Extract the longest noun phrase consisting of consecutive nouns."
   ]
  },
  {
   "cell_type": "code",
   "execution_count": 33,
   "metadata": {},
   "outputs": [
    {
     "data": {
      "text/plain": [
       "([['Ou', 'est', 'ma', 'chatte'], ['thing', 'Mock', 'Turtle', 'Soup']], 4)"
      ]
     },
     "execution_count": 33,
     "metadata": {},
     "output_type": "execute_result"
    }
   ],
   "source": [
    "def extract_longest_np():\n",
    "    nps = []\n",
    "    len_max = 0\n",
    "    for sent in read_text():\n",
    "        tmp = {'np': [], 'length': 0}\n",
    "        for token in sent:\n",
    "            if token['pos'].startswith('NN'):\n",
    "                tmp['np'].append(token['text'])\n",
    "                tmp['length'] += 1\n",
    "            else:\n",
    "                if tmp['length'] > len_max:\n",
    "                    nps = [tmp['np']]\n",
    "                    len_max = tmp['length']\n",
    "                elif tmp['length'] == len_max:\n",
    "                    nps.append(tmp['np'])\n",
    "                tmp = {'np': [], 'length': 0}\n",
    "    return nps, len_max\n",
    "\n",
    "extract_longest_np()"
   ]
  },
  {
   "cell_type": "markdown",
   "metadata": {},
   "source": [
    "### 35. Frequency of words\n",
    "Obtain the list of words and frequencies of their occurrences sorted by descending order of frequency."
   ]
  },
  {
   "cell_type": "code",
   "execution_count": 82,
   "metadata": {},
   "outputs": [
    {
     "data": {
      "text/plain": [
       "[('the', 1639), ('and', 866), ('to', 725), ('a', 631), ('it', 595)]"
      ]
     },
     "execution_count": 82,
     "metadata": {},
     "output_type": "execute_result"
    }
   ],
   "source": [
    "from collections import Counter\n",
    "import string\n",
    "\n",
    "def sort_by_freq():\n",
    "    token_texts = [token['text'] for token in read_text(flat=True)]\n",
    "    words = [word.lower() for word in token_texts if word not in string.punctuation]\n",
    "    word_freqs = Counter(words).most_common()\n",
    "    return word_freqs\n",
    "\n",
    "sort_by_freq()[:5]"
   ]
  },
  {
   "cell_type": "markdown",
   "metadata": {},
   "source": [
    "### 36. Top-ten frequent words\n",
    "Visualize the top-ten frequent words and their frequencies with a chart (e.g., bar chart)."
   ]
  },
  {
   "cell_type": "code",
   "execution_count": 83,
   "metadata": {},
   "outputs": [
    {
     "data": {
      "image/png": "[encoded data removed]",
      "text/plain": [
       "<Figure size 432x288 with 1 Axes>"
      ]
     },
     "metadata": {
      "needs_background": "light"
     },
     "output_type": "display_data"
    }
   ],
   "source": [
    "import matplotlib.pyplot as plt\n",
    "\n",
    "def top_10_bar_chart(lst):\n",
    "    word_freqs = dict(lst[:10])\n",
    "    plt.bar(word_freqs.keys(), word_freqs.values())\n",
    "\n",
    "top_10_bar_chart(sort_by_freq())"
   ]
  },
  {
   "cell_type": "markdown",
   "metadata": {},
   "source": [
    "### 37. Top-ten words co-occurring with 'Alice'\n",
    "Extract the list of words that co-occur with the word \"Alice\". Visualize with a chart (e.g., bar chart) the top-ten words co-occurring with the word \"Alice\" and their frequencies."
   ]
  },
  {
   "cell_type": "code",
   "execution_count": 84,
   "metadata": {},
   "outputs": [
    {
     "data": {
      "image/png": "[encoded data removed]",
      "text/plain": [
       "<Figure size 432x288 with 1 Axes>"
      ]
     },
     "metadata": {
      "needs_background": "light"
     },
     "output_type": "display_data"
    }
   ],
   "source": [
    "def cooccuring_words():\n",
    "    lst = []\n",
    "    for sent in read_text():\n",
    "        contains_alice = False\n",
    "        for token in sent:\n",
    "            if token['text'] == 'Alice':\n",
    "                contains_alice = True\n",
    "        if contains_alice:\n",
    "            token_texts = [token['text'] for token in sent]\n",
    "            token_set = set(token_texts) - set(['Alice']) - set(string.punctuation)\n",
    "            lst += list(token_set)\n",
    "\n",
    "    return Counter(lst).most_common()[:10]\n",
    "\n",
    "top_10_bar_chart(cooccuring_words())"
   ]
  },
  {
   "cell_type": "markdown",
   "metadata": {},
   "source": [
    "### 38. Histogram\n",
    "Draw a histogram of word frequency (x-axis is a scalar range representing a frequency ranging from 1 to the largest frequency of a given word in the entire corpus, and the y-axis is the count of unique words that fall into the count of the x value)."
   ]
  },
  {
   "cell_type": "code",
   "execution_count": 85,
   "metadata": {},
   "outputs": [
    {
     "data": {
      "image/png": "[encoded data removed]",
      "text/plain": [
       "<Figure size 432x288 with 1 Axes>"
      ]
     },
     "metadata": {
      "needs_background": "light"
     },
     "output_type": "display_data"
    }
   ],
   "source": [
    "def draw_hist():\n",
    "    plt.xlabel('Frequency')\n",
    "    plt.ylabel('Count of Unique Words')\n",
    "    freqs = [word_freq[1] for word_freq in sort_by_freq()]\n",
    "    plt.hist(freqs, bins=300)\n",
    "    # plt.hist(freqs, bins=30, range=(1, 30))\n",
    "\n",
    "draw_hist()\n",
    "# Most words occur only a few times"
   ]
  },
  {
   "cell_type": "markdown",
   "metadata": {},
   "source": [
    "### 39. Zipf's law\n",
    "Plot a log-log graph with the x-axis being rank order and the y-axis being frequency."
   ]
  },
  {
   "cell_type": "code",
   "execution_count": 86,
   "metadata": {},
   "outputs": [
    {
     "data": {
      "image/png": "[encoded data removed]",
      "text/plain": [
       "<Figure size 432x288 with 1 Axes>"
      ]
     },
     "metadata": {
      "needs_background": "light"
     },
     "output_type": "display_data"
    }
   ],
   "source": [
    "def draw_log_plot():\n",
    "    plt.xscale('log')\n",
    "    plt.yscale('log')\n",
    "    plt.xlabel('Rank Order')\n",
    "    plt.ylabel('Frequency')\n",
    "    rank_orders = range(1, len(sort_by_freq()) + 1)\n",
    "    freqs = [word_freq[1] for word_freq in sort_by_freq()]\n",
    "    plt.scatter(rank_orders, freqs, s=10)\n",
    "\n",
    "draw_log_plot()"
   ]
  },
  {
   "cell_type": "code",
   "execution_count": null,
   "metadata": {},
   "outputs": [],
   "source": []
  }
 ],
 "metadata": {
  "interpreter": {
   "hash": "1ab90cbe204dba065bbaa93215b90177b50d417861a62d1fa4e52e269ff8aa02"
  },
  "kernelspec": {
   "display_name": "Python 3 (ipykernel)",
   "language": "python",
   "name": "python3"
  },
  "language_info": {
   "codemirror_mode": {
    "name": "ipython",
    "version": 3
   },
   "file_extension": ".py",
   "mimetype": "text/x-python",
   "name": "python",
   "nbconvert_exporter": "python",
   "pygments_lexer": "ipython3",
   "version": "3.9.9"
  }
 },
 "nbformat": 4,
 "nbformat_minor": 4
}
